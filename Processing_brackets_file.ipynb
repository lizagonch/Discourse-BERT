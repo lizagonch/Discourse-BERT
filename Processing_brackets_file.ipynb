{
  "nbformat": 4,
  "nbformat_minor": 0,
  "metadata": {
    "colab": {
      "name": "Processing brackets file.ipynb",
      "provenance": [],
      "authorship_tag": "ABX9TyN/+0pBOr9Lq1B95tezlPgq",
      "include_colab_link": true
    },
    "kernelspec": {
      "name": "python3",
      "display_name": "Python 3"
    },
    "language_info": {
      "name": "python"
    }
  },
  "cells": [
    {
      "cell_type": "markdown",
      "metadata": {
        "id": "view-in-github",
        "colab_type": "text"
      },
      "source": [
        "<a href=\"https://colab.research.google.com/github/lizagonch/Discourse-BERT/blob/master/Processing_brackets_file.ipynb\" target=\"_parent\"><img src=\"https://colab.research.google.com/assets/colab-badge.svg\" alt=\"Open In Colab\"/></a>"
      ]
    },
    {
      "cell_type": "code",
      "metadata": {
        "id": "h3IDf415FW0s"
      },
      "source": [
        "import pandas as pd\n",
        "import re"
      ],
      "execution_count": 104,
      "outputs": []
    },
    {
      "cell_type": "code",
      "metadata": {
        "colab": {
          "base_uri": "https://localhost:8080/"
        },
        "id": "O8Y88sIyF54E",
        "outputId": "3696cb91-10e1-4561-ba42-5517c347ffb9"
      },
      "source": [
        "br = pd.read_csv('/content/CD_review1_1000006.txt.brackets', sep=', ', header=None, names = ['start', 'end', 'type', 'RST'])"
      ],
      "execution_count": 338,
      "outputs": [
        {
          "output_type": "stream",
          "text": [
            "/usr/local/lib/python3.7/dist-packages/ipykernel_launcher.py:1: ParserWarning: Falling back to the 'python' engine because the 'c' engine does not support regex separators (separators > 1 char and different from '\\s+' are interpreted as regex); you can avoid this warning by specifying engine='python'.\n",
            "  \"\"\"Entry point for launching an IPython kernel.\n"
          ],
          "name": "stderr"
        }
      ]
    },
    {
      "cell_type": "code",
      "metadata": {
        "colab": {
          "base_uri": "https://localhost:8080/",
          "height": 976
        },
        "id": "2s6jZJSfGXDA",
        "outputId": "9a66f083-9773-4861-b31c-4d92204ab313"
      },
      "source": [
        "br"
      ],
      "execution_count": 339,
      "outputs": [
        {
          "output_type": "execute_result",
          "data": {
            "text/html": [
              "<div>\n",
              "<style scoped>\n",
              "    .dataframe tbody tr th:only-of-type {\n",
              "        vertical-align: middle;\n",
              "    }\n",
              "\n",
              "    .dataframe tbody tr th {\n",
              "        vertical-align: top;\n",
              "    }\n",
              "\n",
              "    .dataframe thead th {\n",
              "        text-align: right;\n",
              "    }\n",
              "</style>\n",
              "<table border=\"1\" class=\"dataframe\">\n",
              "  <thead>\n",
              "    <tr style=\"text-align: right;\">\n",
              "      <th></th>\n",
              "      <th>start</th>\n",
              "      <th>end</th>\n",
              "      <th>type</th>\n",
              "      <th>RST</th>\n",
              "    </tr>\n",
              "  </thead>\n",
              "  <tbody>\n",
              "    <tr>\n",
              "      <th>0</th>\n",
              "      <td>((1</td>\n",
              "      <td>1)</td>\n",
              "      <td>'Satellite'</td>\n",
              "      <td>'condition')</td>\n",
              "    </tr>\n",
              "    <tr>\n",
              "      <th>1</th>\n",
              "      <td>((2</td>\n",
              "      <td>2)</td>\n",
              "      <td>'Nucleus'</td>\n",
              "      <td>'span')</td>\n",
              "    </tr>\n",
              "    <tr>\n",
              "      <th>2</th>\n",
              "      <td>((3</td>\n",
              "      <td>3)</td>\n",
              "      <td>'Nucleus'</td>\n",
              "      <td>'span')</td>\n",
              "    </tr>\n",
              "    <tr>\n",
              "      <th>3</th>\n",
              "      <td>((4</td>\n",
              "      <td>4)</td>\n",
              "      <td>'Nucleus'</td>\n",
              "      <td>'span')</td>\n",
              "    </tr>\n",
              "    <tr>\n",
              "      <th>4</th>\n",
              "      <td>((5</td>\n",
              "      <td>5)</td>\n",
              "      <td>'Nucleus'</td>\n",
              "      <td>'span')</td>\n",
              "    </tr>\n",
              "    <tr>\n",
              "      <th>5</th>\n",
              "      <td>((6</td>\n",
              "      <td>6)</td>\n",
              "      <td>'Nucleus'</td>\n",
              "      <td>'span')</td>\n",
              "    </tr>\n",
              "    <tr>\n",
              "      <th>6</th>\n",
              "      <td>((7</td>\n",
              "      <td>7)</td>\n",
              "      <td>'Nucleus'</td>\n",
              "      <td>'span')</td>\n",
              "    </tr>\n",
              "    <tr>\n",
              "      <th>7</th>\n",
              "      <td>((8</td>\n",
              "      <td>8)</td>\n",
              "      <td>'Nucleus'</td>\n",
              "      <td>'span')</td>\n",
              "    </tr>\n",
              "    <tr>\n",
              "      <th>8</th>\n",
              "      <td>((9</td>\n",
              "      <td>9)</td>\n",
              "      <td>'Nucleus'</td>\n",
              "      <td>'span')</td>\n",
              "    </tr>\n",
              "    <tr>\n",
              "      <th>9</th>\n",
              "      <td>((10</td>\n",
              "      <td>10)</td>\n",
              "      <td>'Satellite'</td>\n",
              "      <td>'elaboration')</td>\n",
              "    </tr>\n",
              "    <tr>\n",
              "      <th>10</th>\n",
              "      <td>((9</td>\n",
              "      <td>10)</td>\n",
              "      <td>'Nucleus'</td>\n",
              "      <td>'same_unit')</td>\n",
              "    </tr>\n",
              "    <tr>\n",
              "      <th>11</th>\n",
              "      <td>((11</td>\n",
              "      <td>11)</td>\n",
              "      <td>'Nucleus'</td>\n",
              "      <td>'span')</td>\n",
              "    </tr>\n",
              "    <tr>\n",
              "      <th>12</th>\n",
              "      <td>((12</td>\n",
              "      <td>12)</td>\n",
              "      <td>'Nucleus'</td>\n",
              "      <td>'span')</td>\n",
              "    </tr>\n",
              "    <tr>\n",
              "      <th>13</th>\n",
              "      <td>((13</td>\n",
              "      <td>13)</td>\n",
              "      <td>'Nucleus'</td>\n",
              "      <td>'span')</td>\n",
              "    </tr>\n",
              "    <tr>\n",
              "      <th>14</th>\n",
              "      <td>((14</td>\n",
              "      <td>14)</td>\n",
              "      <td>'Nucleus'</td>\n",
              "      <td>'span')</td>\n",
              "    </tr>\n",
              "    <tr>\n",
              "      <th>15</th>\n",
              "      <td>((15</td>\n",
              "      <td>15)</td>\n",
              "      <td>'Satellite'</td>\n",
              "      <td>'elaboration')</td>\n",
              "    </tr>\n",
              "    <tr>\n",
              "      <th>16</th>\n",
              "      <td>((14</td>\n",
              "      <td>15)</td>\n",
              "      <td>'Nucleus'</td>\n",
              "      <td>'span')</td>\n",
              "    </tr>\n",
              "    <tr>\n",
              "      <th>17</th>\n",
              "      <td>((16</td>\n",
              "      <td>16)</td>\n",
              "      <td>'Satellite'</td>\n",
              "      <td>'condition')</td>\n",
              "    </tr>\n",
              "    <tr>\n",
              "      <th>18</th>\n",
              "      <td>((14</td>\n",
              "      <td>16)</td>\n",
              "      <td>'Satellite'</td>\n",
              "      <td>'elaboration')</td>\n",
              "    </tr>\n",
              "    <tr>\n",
              "      <th>19</th>\n",
              "      <td>((13</td>\n",
              "      <td>16)</td>\n",
              "      <td>'Satellite'</td>\n",
              "      <td>'purpose')</td>\n",
              "    </tr>\n",
              "    <tr>\n",
              "      <th>20</th>\n",
              "      <td>((12</td>\n",
              "      <td>16)</td>\n",
              "      <td>'Satellite'</td>\n",
              "      <td>'elaboration')</td>\n",
              "    </tr>\n",
              "    <tr>\n",
              "      <th>21</th>\n",
              "      <td>((11</td>\n",
              "      <td>16)</td>\n",
              "      <td>'Nucleus'</td>\n",
              "      <td>'same_unit')</td>\n",
              "    </tr>\n",
              "    <tr>\n",
              "      <th>22</th>\n",
              "      <td>((9</td>\n",
              "      <td>16)</td>\n",
              "      <td>'Satellite'</td>\n",
              "      <td>'elaboration')</td>\n",
              "    </tr>\n",
              "    <tr>\n",
              "      <th>23</th>\n",
              "      <td>((8</td>\n",
              "      <td>16)</td>\n",
              "      <td>'Satellite'</td>\n",
              "      <td>'elaboration')</td>\n",
              "    </tr>\n",
              "    <tr>\n",
              "      <th>24</th>\n",
              "      <td>((7</td>\n",
              "      <td>16)</td>\n",
              "      <td>'Satellite'</td>\n",
              "      <td>'elaboration')</td>\n",
              "    </tr>\n",
              "    <tr>\n",
              "      <th>25</th>\n",
              "      <td>((6</td>\n",
              "      <td>16)</td>\n",
              "      <td>'Satellite'</td>\n",
              "      <td>'elaboration')</td>\n",
              "    </tr>\n",
              "    <tr>\n",
              "      <th>26</th>\n",
              "      <td>((5</td>\n",
              "      <td>16)</td>\n",
              "      <td>'Satellite'</td>\n",
              "      <td>'elaboration')</td>\n",
              "    </tr>\n",
              "    <tr>\n",
              "      <th>27</th>\n",
              "      <td>((4</td>\n",
              "      <td>16)</td>\n",
              "      <td>'Satellite'</td>\n",
              "      <td>'elaboration')</td>\n",
              "    </tr>\n",
              "    <tr>\n",
              "      <th>28</th>\n",
              "      <td>((3</td>\n",
              "      <td>16)</td>\n",
              "      <td>'Satellite'</td>\n",
              "      <td>'elaboration')</td>\n",
              "    </tr>\n",
              "    <tr>\n",
              "      <th>29</th>\n",
              "      <td>((2</td>\n",
              "      <td>16)</td>\n",
              "      <td>'Nucleus'</td>\n",
              "      <td>'span')</td>\n",
              "    </tr>\n",
              "  </tbody>\n",
              "</table>\n",
              "</div>"
            ],
            "text/plain": [
              "   start  end         type             RST\n",
              "0    ((1   1)  'Satellite'    'condition')\n",
              "1    ((2   2)    'Nucleus'         'span')\n",
              "2    ((3   3)    'Nucleus'         'span')\n",
              "3    ((4   4)    'Nucleus'         'span')\n",
              "4    ((5   5)    'Nucleus'         'span')\n",
              "5    ((6   6)    'Nucleus'         'span')\n",
              "6    ((7   7)    'Nucleus'         'span')\n",
              "7    ((8   8)    'Nucleus'         'span')\n",
              "8    ((9   9)    'Nucleus'         'span')\n",
              "9   ((10  10)  'Satellite'  'elaboration')\n",
              "10   ((9  10)    'Nucleus'    'same_unit')\n",
              "11  ((11  11)    'Nucleus'         'span')\n",
              "12  ((12  12)    'Nucleus'         'span')\n",
              "13  ((13  13)    'Nucleus'         'span')\n",
              "14  ((14  14)    'Nucleus'         'span')\n",
              "15  ((15  15)  'Satellite'  'elaboration')\n",
              "16  ((14  15)    'Nucleus'         'span')\n",
              "17  ((16  16)  'Satellite'    'condition')\n",
              "18  ((14  16)  'Satellite'  'elaboration')\n",
              "19  ((13  16)  'Satellite'      'purpose')\n",
              "20  ((12  16)  'Satellite'  'elaboration')\n",
              "21  ((11  16)    'Nucleus'    'same_unit')\n",
              "22   ((9  16)  'Satellite'  'elaboration')\n",
              "23   ((8  16)  'Satellite'  'elaboration')\n",
              "24   ((7  16)  'Satellite'  'elaboration')\n",
              "25   ((6  16)  'Satellite'  'elaboration')\n",
              "26   ((5  16)  'Satellite'  'elaboration')\n",
              "27   ((4  16)  'Satellite'  'elaboration')\n",
              "28   ((3  16)  'Satellite'  'elaboration')\n",
              "29   ((2  16)    'Nucleus'         'span')"
            ]
          },
          "metadata": {
            "tags": []
          },
          "execution_count": 339
        }
      ]
    },
    {
      "cell_type": "code",
      "metadata": {
        "id": "falhcXpGHEZM"
      },
      "source": [
        "def del_brackets(text):\n",
        "    return re.sub(r'[\\'*\\)*\\(*]', '', text)"
      ],
      "execution_count": 340,
      "outputs": []
    },
    {
      "cell_type": "code",
      "metadata": {
        "id": "7u4A0_grIGm4"
      },
      "source": [
        "for j in br.columns:\n",
        "  br[j] = br[j].apply(del_brackets)"
      ],
      "execution_count": 341,
      "outputs": []
    },
    {
      "cell_type": "code",
      "metadata": {
        "colab": {
          "base_uri": "https://localhost:8080/",
          "height": 976
        },
        "id": "LULvDMJfNVzd",
        "outputId": "3d18a63a-19d9-46d1-a197-5cd7c613dcc5"
      },
      "source": [
        "br"
      ],
      "execution_count": 342,
      "outputs": [
        {
          "output_type": "execute_result",
          "data": {
            "text/html": [
              "<div>\n",
              "<style scoped>\n",
              "    .dataframe tbody tr th:only-of-type {\n",
              "        vertical-align: middle;\n",
              "    }\n",
              "\n",
              "    .dataframe tbody tr th {\n",
              "        vertical-align: top;\n",
              "    }\n",
              "\n",
              "    .dataframe thead th {\n",
              "        text-align: right;\n",
              "    }\n",
              "</style>\n",
              "<table border=\"1\" class=\"dataframe\">\n",
              "  <thead>\n",
              "    <tr style=\"text-align: right;\">\n",
              "      <th></th>\n",
              "      <th>start</th>\n",
              "      <th>end</th>\n",
              "      <th>type</th>\n",
              "      <th>RST</th>\n",
              "    </tr>\n",
              "  </thead>\n",
              "  <tbody>\n",
              "    <tr>\n",
              "      <th>0</th>\n",
              "      <td>1</td>\n",
              "      <td>1</td>\n",
              "      <td>Satellite</td>\n",
              "      <td>condition</td>\n",
              "    </tr>\n",
              "    <tr>\n",
              "      <th>1</th>\n",
              "      <td>2</td>\n",
              "      <td>2</td>\n",
              "      <td>Nucleus</td>\n",
              "      <td>span</td>\n",
              "    </tr>\n",
              "    <tr>\n",
              "      <th>2</th>\n",
              "      <td>3</td>\n",
              "      <td>3</td>\n",
              "      <td>Nucleus</td>\n",
              "      <td>span</td>\n",
              "    </tr>\n",
              "    <tr>\n",
              "      <th>3</th>\n",
              "      <td>4</td>\n",
              "      <td>4</td>\n",
              "      <td>Nucleus</td>\n",
              "      <td>span</td>\n",
              "    </tr>\n",
              "    <tr>\n",
              "      <th>4</th>\n",
              "      <td>5</td>\n",
              "      <td>5</td>\n",
              "      <td>Nucleus</td>\n",
              "      <td>span</td>\n",
              "    </tr>\n",
              "    <tr>\n",
              "      <th>5</th>\n",
              "      <td>6</td>\n",
              "      <td>6</td>\n",
              "      <td>Nucleus</td>\n",
              "      <td>span</td>\n",
              "    </tr>\n",
              "    <tr>\n",
              "      <th>6</th>\n",
              "      <td>7</td>\n",
              "      <td>7</td>\n",
              "      <td>Nucleus</td>\n",
              "      <td>span</td>\n",
              "    </tr>\n",
              "    <tr>\n",
              "      <th>7</th>\n",
              "      <td>8</td>\n",
              "      <td>8</td>\n",
              "      <td>Nucleus</td>\n",
              "      <td>span</td>\n",
              "    </tr>\n",
              "    <tr>\n",
              "      <th>8</th>\n",
              "      <td>9</td>\n",
              "      <td>9</td>\n",
              "      <td>Nucleus</td>\n",
              "      <td>span</td>\n",
              "    </tr>\n",
              "    <tr>\n",
              "      <th>9</th>\n",
              "      <td>10</td>\n",
              "      <td>10</td>\n",
              "      <td>Satellite</td>\n",
              "      <td>elaboration</td>\n",
              "    </tr>\n",
              "    <tr>\n",
              "      <th>10</th>\n",
              "      <td>9</td>\n",
              "      <td>10</td>\n",
              "      <td>Nucleus</td>\n",
              "      <td>same_unit</td>\n",
              "    </tr>\n",
              "    <tr>\n",
              "      <th>11</th>\n",
              "      <td>11</td>\n",
              "      <td>11</td>\n",
              "      <td>Nucleus</td>\n",
              "      <td>span</td>\n",
              "    </tr>\n",
              "    <tr>\n",
              "      <th>12</th>\n",
              "      <td>12</td>\n",
              "      <td>12</td>\n",
              "      <td>Nucleus</td>\n",
              "      <td>span</td>\n",
              "    </tr>\n",
              "    <tr>\n",
              "      <th>13</th>\n",
              "      <td>13</td>\n",
              "      <td>13</td>\n",
              "      <td>Nucleus</td>\n",
              "      <td>span</td>\n",
              "    </tr>\n",
              "    <tr>\n",
              "      <th>14</th>\n",
              "      <td>14</td>\n",
              "      <td>14</td>\n",
              "      <td>Nucleus</td>\n",
              "      <td>span</td>\n",
              "    </tr>\n",
              "    <tr>\n",
              "      <th>15</th>\n",
              "      <td>15</td>\n",
              "      <td>15</td>\n",
              "      <td>Satellite</td>\n",
              "      <td>elaboration</td>\n",
              "    </tr>\n",
              "    <tr>\n",
              "      <th>16</th>\n",
              "      <td>14</td>\n",
              "      <td>15</td>\n",
              "      <td>Nucleus</td>\n",
              "      <td>span</td>\n",
              "    </tr>\n",
              "    <tr>\n",
              "      <th>17</th>\n",
              "      <td>16</td>\n",
              "      <td>16</td>\n",
              "      <td>Satellite</td>\n",
              "      <td>condition</td>\n",
              "    </tr>\n",
              "    <tr>\n",
              "      <th>18</th>\n",
              "      <td>14</td>\n",
              "      <td>16</td>\n",
              "      <td>Satellite</td>\n",
              "      <td>elaboration</td>\n",
              "    </tr>\n",
              "    <tr>\n",
              "      <th>19</th>\n",
              "      <td>13</td>\n",
              "      <td>16</td>\n",
              "      <td>Satellite</td>\n",
              "      <td>purpose</td>\n",
              "    </tr>\n",
              "    <tr>\n",
              "      <th>20</th>\n",
              "      <td>12</td>\n",
              "      <td>16</td>\n",
              "      <td>Satellite</td>\n",
              "      <td>elaboration</td>\n",
              "    </tr>\n",
              "    <tr>\n",
              "      <th>21</th>\n",
              "      <td>11</td>\n",
              "      <td>16</td>\n",
              "      <td>Nucleus</td>\n",
              "      <td>same_unit</td>\n",
              "    </tr>\n",
              "    <tr>\n",
              "      <th>22</th>\n",
              "      <td>9</td>\n",
              "      <td>16</td>\n",
              "      <td>Satellite</td>\n",
              "      <td>elaboration</td>\n",
              "    </tr>\n",
              "    <tr>\n",
              "      <th>23</th>\n",
              "      <td>8</td>\n",
              "      <td>16</td>\n",
              "      <td>Satellite</td>\n",
              "      <td>elaboration</td>\n",
              "    </tr>\n",
              "    <tr>\n",
              "      <th>24</th>\n",
              "      <td>7</td>\n",
              "      <td>16</td>\n",
              "      <td>Satellite</td>\n",
              "      <td>elaboration</td>\n",
              "    </tr>\n",
              "    <tr>\n",
              "      <th>25</th>\n",
              "      <td>6</td>\n",
              "      <td>16</td>\n",
              "      <td>Satellite</td>\n",
              "      <td>elaboration</td>\n",
              "    </tr>\n",
              "    <tr>\n",
              "      <th>26</th>\n",
              "      <td>5</td>\n",
              "      <td>16</td>\n",
              "      <td>Satellite</td>\n",
              "      <td>elaboration</td>\n",
              "    </tr>\n",
              "    <tr>\n",
              "      <th>27</th>\n",
              "      <td>4</td>\n",
              "      <td>16</td>\n",
              "      <td>Satellite</td>\n",
              "      <td>elaboration</td>\n",
              "    </tr>\n",
              "    <tr>\n",
              "      <th>28</th>\n",
              "      <td>3</td>\n",
              "      <td>16</td>\n",
              "      <td>Satellite</td>\n",
              "      <td>elaboration</td>\n",
              "    </tr>\n",
              "    <tr>\n",
              "      <th>29</th>\n",
              "      <td>2</td>\n",
              "      <td>16</td>\n",
              "      <td>Nucleus</td>\n",
              "      <td>span</td>\n",
              "    </tr>\n",
              "  </tbody>\n",
              "</table>\n",
              "</div>"
            ],
            "text/plain": [
              "   start end       type          RST\n",
              "0      1   1  Satellite    condition\n",
              "1      2   2    Nucleus         span\n",
              "2      3   3    Nucleus         span\n",
              "3      4   4    Nucleus         span\n",
              "4      5   5    Nucleus         span\n",
              "5      6   6    Nucleus         span\n",
              "6      7   7    Nucleus         span\n",
              "7      8   8    Nucleus         span\n",
              "8      9   9    Nucleus         span\n",
              "9     10  10  Satellite  elaboration\n",
              "10     9  10    Nucleus    same_unit\n",
              "11    11  11    Nucleus         span\n",
              "12    12  12    Nucleus         span\n",
              "13    13  13    Nucleus         span\n",
              "14    14  14    Nucleus         span\n",
              "15    15  15  Satellite  elaboration\n",
              "16    14  15    Nucleus         span\n",
              "17    16  16  Satellite    condition\n",
              "18    14  16  Satellite  elaboration\n",
              "19    13  16  Satellite      purpose\n",
              "20    12  16  Satellite  elaboration\n",
              "21    11  16    Nucleus    same_unit\n",
              "22     9  16  Satellite  elaboration\n",
              "23     8  16  Satellite  elaboration\n",
              "24     7  16  Satellite  elaboration\n",
              "25     6  16  Satellite  elaboration\n",
              "26     5  16  Satellite  elaboration\n",
              "27     4  16  Satellite  elaboration\n",
              "28     3  16  Satellite  elaboration\n",
              "29     2  16    Nucleus         span"
            ]
          },
          "metadata": {
            "tags": []
          },
          "execution_count": 342
        }
      ]
    },
    {
      "cell_type": "code",
      "metadata": {
        "colab": {
          "base_uri": "https://localhost:8080/"
        },
        "id": "k_rYFxhWNeyY",
        "outputId": "b0980899-6479-4ac1-c9e2-91618a05c0d0"
      },
      "source": [
        "type(br['start'][0])"
      ],
      "execution_count": 343,
      "outputs": [
        {
          "output_type": "execute_result",
          "data": {
            "text/plain": [
              "str"
            ]
          },
          "metadata": {
            "tags": []
          },
          "execution_count": 343
        }
      ]
    },
    {
      "cell_type": "code",
      "metadata": {
        "id": "9RNOfeIiNW-O"
      },
      "source": [
        "br = br.astype({'start': 'int64', 'end': 'int64', 'RST': 'string', 'type': 'string'})"
      ],
      "execution_count": 344,
      "outputs": []
    },
    {
      "cell_type": "code",
      "metadata": {
        "colab": {
          "base_uri": "https://localhost:8080/"
        },
        "id": "xhMoM7HMOwxB",
        "outputId": "6164a773-1ad4-49e1-b2f3-5120ddbc34cf"
      },
      "source": [
        "br.dtypes"
      ],
      "execution_count": 345,
      "outputs": [
        {
          "output_type": "execute_result",
          "data": {
            "text/plain": [
              "start     int64\n",
              "end       int64\n",
              "type     string\n",
              "RST      string\n",
              "dtype: object"
            ]
          },
          "metadata": {
            "tags": []
          },
          "execution_count": 345
        }
      ]
    },
    {
      "cell_type": "code",
      "metadata": {
        "colab": {
          "base_uri": "https://localhost:8080/"
        },
        "id": "kEaIfWQlIJ25",
        "outputId": "22e2b733-6e0a-4abe-8818-742e564410de"
      },
      "source": [
        "br['type'] == 'Satellite'"
      ],
      "execution_count": 346,
      "outputs": [
        {
          "output_type": "execute_result",
          "data": {
            "text/plain": [
              "0      True\n",
              "1     False\n",
              "2     False\n",
              "3     False\n",
              "4     False\n",
              "5     False\n",
              "6     False\n",
              "7     False\n",
              "8     False\n",
              "9      True\n",
              "10    False\n",
              "11    False\n",
              "12    False\n",
              "13    False\n",
              "14    False\n",
              "15     True\n",
              "16    False\n",
              "17     True\n",
              "18     True\n",
              "19     True\n",
              "20     True\n",
              "21    False\n",
              "22     True\n",
              "23     True\n",
              "24     True\n",
              "25     True\n",
              "26     True\n",
              "27     True\n",
              "28     True\n",
              "29    False\n",
              "Name: type, dtype: boolean"
            ]
          },
          "metadata": {
            "tags": []
          },
          "execution_count": 346
        }
      ]
    },
    {
      "cell_type": "code",
      "metadata": {
        "colab": {
          "base_uri": "https://localhost:8080/",
          "height": 36
        },
        "id": "j3zKbiViL0Ip",
        "outputId": "3cad293a-be41-4c4d-c7e8-109d71ee39c7"
      },
      "source": [
        "br['type'][0]"
      ],
      "execution_count": 347,
      "outputs": [
        {
          "output_type": "execute_result",
          "data": {
            "application/vnd.google.colaboratory.intrinsic+json": {
              "type": "string"
            },
            "text/plain": [
              "'Satellite'"
            ]
          },
          "metadata": {
            "tags": []
          },
          "execution_count": 347
        }
      ]
    },
    {
      "cell_type": "code",
      "metadata": {
        "id": "PqXTYRF6ToqS"
      },
      "source": [
        "terminal_nodes = br[br.start == br.end]"
      ],
      "execution_count": 348,
      "outputs": []
    },
    {
      "cell_type": "code",
      "metadata": {
        "colab": {
          "base_uri": "https://localhost:8080/",
          "height": 543
        },
        "id": "S8xlbC4uT42I",
        "outputId": "d9051beb-53c4-4fcf-c22c-22faf613dae8"
      },
      "source": [
        "terminal_nodes"
      ],
      "execution_count": 349,
      "outputs": [
        {
          "output_type": "execute_result",
          "data": {
            "text/html": [
              "<div>\n",
              "<style scoped>\n",
              "    .dataframe tbody tr th:only-of-type {\n",
              "        vertical-align: middle;\n",
              "    }\n",
              "\n",
              "    .dataframe tbody tr th {\n",
              "        vertical-align: top;\n",
              "    }\n",
              "\n",
              "    .dataframe thead th {\n",
              "        text-align: right;\n",
              "    }\n",
              "</style>\n",
              "<table border=\"1\" class=\"dataframe\">\n",
              "  <thead>\n",
              "    <tr style=\"text-align: right;\">\n",
              "      <th></th>\n",
              "      <th>start</th>\n",
              "      <th>end</th>\n",
              "      <th>type</th>\n",
              "      <th>RST</th>\n",
              "    </tr>\n",
              "  </thead>\n",
              "  <tbody>\n",
              "    <tr>\n",
              "      <th>0</th>\n",
              "      <td>1</td>\n",
              "      <td>1</td>\n",
              "      <td>Satellite</td>\n",
              "      <td>condition</td>\n",
              "    </tr>\n",
              "    <tr>\n",
              "      <th>1</th>\n",
              "      <td>2</td>\n",
              "      <td>2</td>\n",
              "      <td>Nucleus</td>\n",
              "      <td>span</td>\n",
              "    </tr>\n",
              "    <tr>\n",
              "      <th>2</th>\n",
              "      <td>3</td>\n",
              "      <td>3</td>\n",
              "      <td>Nucleus</td>\n",
              "      <td>span</td>\n",
              "    </tr>\n",
              "    <tr>\n",
              "      <th>3</th>\n",
              "      <td>4</td>\n",
              "      <td>4</td>\n",
              "      <td>Nucleus</td>\n",
              "      <td>span</td>\n",
              "    </tr>\n",
              "    <tr>\n",
              "      <th>4</th>\n",
              "      <td>5</td>\n",
              "      <td>5</td>\n",
              "      <td>Nucleus</td>\n",
              "      <td>span</td>\n",
              "    </tr>\n",
              "    <tr>\n",
              "      <th>5</th>\n",
              "      <td>6</td>\n",
              "      <td>6</td>\n",
              "      <td>Nucleus</td>\n",
              "      <td>span</td>\n",
              "    </tr>\n",
              "    <tr>\n",
              "      <th>6</th>\n",
              "      <td>7</td>\n",
              "      <td>7</td>\n",
              "      <td>Nucleus</td>\n",
              "      <td>span</td>\n",
              "    </tr>\n",
              "    <tr>\n",
              "      <th>7</th>\n",
              "      <td>8</td>\n",
              "      <td>8</td>\n",
              "      <td>Nucleus</td>\n",
              "      <td>span</td>\n",
              "    </tr>\n",
              "    <tr>\n",
              "      <th>8</th>\n",
              "      <td>9</td>\n",
              "      <td>9</td>\n",
              "      <td>Nucleus</td>\n",
              "      <td>span</td>\n",
              "    </tr>\n",
              "    <tr>\n",
              "      <th>9</th>\n",
              "      <td>10</td>\n",
              "      <td>10</td>\n",
              "      <td>Satellite</td>\n",
              "      <td>elaboration</td>\n",
              "    </tr>\n",
              "    <tr>\n",
              "      <th>11</th>\n",
              "      <td>11</td>\n",
              "      <td>11</td>\n",
              "      <td>Nucleus</td>\n",
              "      <td>span</td>\n",
              "    </tr>\n",
              "    <tr>\n",
              "      <th>12</th>\n",
              "      <td>12</td>\n",
              "      <td>12</td>\n",
              "      <td>Nucleus</td>\n",
              "      <td>span</td>\n",
              "    </tr>\n",
              "    <tr>\n",
              "      <th>13</th>\n",
              "      <td>13</td>\n",
              "      <td>13</td>\n",
              "      <td>Nucleus</td>\n",
              "      <td>span</td>\n",
              "    </tr>\n",
              "    <tr>\n",
              "      <th>14</th>\n",
              "      <td>14</td>\n",
              "      <td>14</td>\n",
              "      <td>Nucleus</td>\n",
              "      <td>span</td>\n",
              "    </tr>\n",
              "    <tr>\n",
              "      <th>15</th>\n",
              "      <td>15</td>\n",
              "      <td>15</td>\n",
              "      <td>Satellite</td>\n",
              "      <td>elaboration</td>\n",
              "    </tr>\n",
              "    <tr>\n",
              "      <th>17</th>\n",
              "      <td>16</td>\n",
              "      <td>16</td>\n",
              "      <td>Satellite</td>\n",
              "      <td>condition</td>\n",
              "    </tr>\n",
              "  </tbody>\n",
              "</table>\n",
              "</div>"
            ],
            "text/plain": [
              "    start  end       type          RST\n",
              "0       1    1  Satellite    condition\n",
              "1       2    2    Nucleus         span\n",
              "2       3    3    Nucleus         span\n",
              "3       4    4    Nucleus         span\n",
              "4       5    5    Nucleus         span\n",
              "5       6    6    Nucleus         span\n",
              "6       7    7    Nucleus         span\n",
              "7       8    8    Nucleus         span\n",
              "8       9    9    Nucleus         span\n",
              "9      10   10  Satellite  elaboration\n",
              "11     11   11    Nucleus         span\n",
              "12     12   12    Nucleus         span\n",
              "13     13   13    Nucleus         span\n",
              "14     14   14    Nucleus         span\n",
              "15     15   15  Satellite  elaboration\n",
              "17     16   16  Satellite    condition"
            ]
          },
          "metadata": {
            "tags": []
          },
          "execution_count": 349
        }
      ]
    },
    {
      "cell_type": "code",
      "metadata": {
        "id": "jkT8yxHqT9Ww"
      },
      "source": [
        "terminal_nodes_dict = {}\n",
        "for index, row in terminal_nodes.iterrows():\n",
        "  terminal_nodes_dict[row.start] = row.type"
      ],
      "execution_count": 350,
      "outputs": []
    },
    {
      "cell_type": "code",
      "metadata": {
        "colab": {
          "base_uri": "https://localhost:8080/"
        },
        "id": "2w0XiWmTWkZ2",
        "outputId": "bb9b4e08-cf80-4a42-b253-3a7aa14c4bca"
      },
      "source": [
        "terminal_nodes_dict"
      ],
      "execution_count": 351,
      "outputs": [
        {
          "output_type": "execute_result",
          "data": {
            "text/plain": [
              "{1: 'Satellite',\n",
              " 2: 'Nucleus',\n",
              " 3: 'Nucleus',\n",
              " 4: 'Nucleus',\n",
              " 5: 'Nucleus',\n",
              " 6: 'Nucleus',\n",
              " 7: 'Nucleus',\n",
              " 8: 'Nucleus',\n",
              " 9: 'Nucleus',\n",
              " 10: 'Satellite',\n",
              " 11: 'Nucleus',\n",
              " 12: 'Nucleus',\n",
              " 13: 'Nucleus',\n",
              " 14: 'Nucleus',\n",
              " 15: 'Satellite',\n",
              " 16: 'Satellite'}"
            ]
          },
          "metadata": {
            "tags": []
          },
          "execution_count": 351
        }
      ]
    },
    {
      "cell_type": "code",
      "metadata": {
        "id": "W6ZRCfm4Plps"
      },
      "source": [
        "n_s = br[br['RST'] == 'span']"
      ],
      "execution_count": 352,
      "outputs": []
    },
    {
      "cell_type": "code",
      "metadata": {
        "id": "AUnUbGbcQ47C"
      },
      "source": [
        "sat = br[br['RST'] != 'span']"
      ],
      "execution_count": 353,
      "outputs": []
    },
    {
      "cell_type": "code",
      "metadata": {
        "colab": {
          "base_uri": "https://localhost:8080/",
          "height": 482
        },
        "id": "YIVQB8QLQtpE",
        "outputId": "7d511f15-decb-4a12-fb62-9213b3a25240"
      },
      "source": [
        "n_s"
      ],
      "execution_count": 354,
      "outputs": [
        {
          "output_type": "execute_result",
          "data": {
            "text/html": [
              "<div>\n",
              "<style scoped>\n",
              "    .dataframe tbody tr th:only-of-type {\n",
              "        vertical-align: middle;\n",
              "    }\n",
              "\n",
              "    .dataframe tbody tr th {\n",
              "        vertical-align: top;\n",
              "    }\n",
              "\n",
              "    .dataframe thead th {\n",
              "        text-align: right;\n",
              "    }\n",
              "</style>\n",
              "<table border=\"1\" class=\"dataframe\">\n",
              "  <thead>\n",
              "    <tr style=\"text-align: right;\">\n",
              "      <th></th>\n",
              "      <th>start</th>\n",
              "      <th>end</th>\n",
              "      <th>type</th>\n",
              "      <th>RST</th>\n",
              "    </tr>\n",
              "  </thead>\n",
              "  <tbody>\n",
              "    <tr>\n",
              "      <th>1</th>\n",
              "      <td>2</td>\n",
              "      <td>2</td>\n",
              "      <td>Nucleus</td>\n",
              "      <td>span</td>\n",
              "    </tr>\n",
              "    <tr>\n",
              "      <th>2</th>\n",
              "      <td>3</td>\n",
              "      <td>3</td>\n",
              "      <td>Nucleus</td>\n",
              "      <td>span</td>\n",
              "    </tr>\n",
              "    <tr>\n",
              "      <th>3</th>\n",
              "      <td>4</td>\n",
              "      <td>4</td>\n",
              "      <td>Nucleus</td>\n",
              "      <td>span</td>\n",
              "    </tr>\n",
              "    <tr>\n",
              "      <th>4</th>\n",
              "      <td>5</td>\n",
              "      <td>5</td>\n",
              "      <td>Nucleus</td>\n",
              "      <td>span</td>\n",
              "    </tr>\n",
              "    <tr>\n",
              "      <th>5</th>\n",
              "      <td>6</td>\n",
              "      <td>6</td>\n",
              "      <td>Nucleus</td>\n",
              "      <td>span</td>\n",
              "    </tr>\n",
              "    <tr>\n",
              "      <th>6</th>\n",
              "      <td>7</td>\n",
              "      <td>7</td>\n",
              "      <td>Nucleus</td>\n",
              "      <td>span</td>\n",
              "    </tr>\n",
              "    <tr>\n",
              "      <th>7</th>\n",
              "      <td>8</td>\n",
              "      <td>8</td>\n",
              "      <td>Nucleus</td>\n",
              "      <td>span</td>\n",
              "    </tr>\n",
              "    <tr>\n",
              "      <th>8</th>\n",
              "      <td>9</td>\n",
              "      <td>9</td>\n",
              "      <td>Nucleus</td>\n",
              "      <td>span</td>\n",
              "    </tr>\n",
              "    <tr>\n",
              "      <th>11</th>\n",
              "      <td>11</td>\n",
              "      <td>11</td>\n",
              "      <td>Nucleus</td>\n",
              "      <td>span</td>\n",
              "    </tr>\n",
              "    <tr>\n",
              "      <th>12</th>\n",
              "      <td>12</td>\n",
              "      <td>12</td>\n",
              "      <td>Nucleus</td>\n",
              "      <td>span</td>\n",
              "    </tr>\n",
              "    <tr>\n",
              "      <th>13</th>\n",
              "      <td>13</td>\n",
              "      <td>13</td>\n",
              "      <td>Nucleus</td>\n",
              "      <td>span</td>\n",
              "    </tr>\n",
              "    <tr>\n",
              "      <th>14</th>\n",
              "      <td>14</td>\n",
              "      <td>14</td>\n",
              "      <td>Nucleus</td>\n",
              "      <td>span</td>\n",
              "    </tr>\n",
              "    <tr>\n",
              "      <th>16</th>\n",
              "      <td>14</td>\n",
              "      <td>15</td>\n",
              "      <td>Nucleus</td>\n",
              "      <td>span</td>\n",
              "    </tr>\n",
              "    <tr>\n",
              "      <th>29</th>\n",
              "      <td>2</td>\n",
              "      <td>16</td>\n",
              "      <td>Nucleus</td>\n",
              "      <td>span</td>\n",
              "    </tr>\n",
              "  </tbody>\n",
              "</table>\n",
              "</div>"
            ],
            "text/plain": [
              "    start  end     type   RST\n",
              "1       2    2  Nucleus  span\n",
              "2       3    3  Nucleus  span\n",
              "3       4    4  Nucleus  span\n",
              "4       5    5  Nucleus  span\n",
              "5       6    6  Nucleus  span\n",
              "6       7    7  Nucleus  span\n",
              "7       8    8  Nucleus  span\n",
              "8       9    9  Nucleus  span\n",
              "11     11   11  Nucleus  span\n",
              "12     12   12  Nucleus  span\n",
              "13     13   13  Nucleus  span\n",
              "14     14   14  Nucleus  span\n",
              "16     14   15  Nucleus  span\n",
              "29      2   16  Nucleus  span"
            ]
          },
          "metadata": {
            "tags": []
          },
          "execution_count": 354
        }
      ]
    },
    {
      "cell_type": "code",
      "metadata": {
        "colab": {
          "base_uri": "https://localhost:8080/",
          "height": 543
        },
        "id": "XJO9z_-VQyy6",
        "outputId": "c92ae672-cab5-413d-ee02-11065c29830a"
      },
      "source": [
        "sat"
      ],
      "execution_count": 355,
      "outputs": [
        {
          "output_type": "execute_result",
          "data": {
            "text/html": [
              "<div>\n",
              "<style scoped>\n",
              "    .dataframe tbody tr th:only-of-type {\n",
              "        vertical-align: middle;\n",
              "    }\n",
              "\n",
              "    .dataframe tbody tr th {\n",
              "        vertical-align: top;\n",
              "    }\n",
              "\n",
              "    .dataframe thead th {\n",
              "        text-align: right;\n",
              "    }\n",
              "</style>\n",
              "<table border=\"1\" class=\"dataframe\">\n",
              "  <thead>\n",
              "    <tr style=\"text-align: right;\">\n",
              "      <th></th>\n",
              "      <th>start</th>\n",
              "      <th>end</th>\n",
              "      <th>type</th>\n",
              "      <th>RST</th>\n",
              "    </tr>\n",
              "  </thead>\n",
              "  <tbody>\n",
              "    <tr>\n",
              "      <th>0</th>\n",
              "      <td>1</td>\n",
              "      <td>1</td>\n",
              "      <td>Satellite</td>\n",
              "      <td>condition</td>\n",
              "    </tr>\n",
              "    <tr>\n",
              "      <th>9</th>\n",
              "      <td>10</td>\n",
              "      <td>10</td>\n",
              "      <td>Satellite</td>\n",
              "      <td>elaboration</td>\n",
              "    </tr>\n",
              "    <tr>\n",
              "      <th>10</th>\n",
              "      <td>9</td>\n",
              "      <td>10</td>\n",
              "      <td>Nucleus</td>\n",
              "      <td>same_unit</td>\n",
              "    </tr>\n",
              "    <tr>\n",
              "      <th>15</th>\n",
              "      <td>15</td>\n",
              "      <td>15</td>\n",
              "      <td>Satellite</td>\n",
              "      <td>elaboration</td>\n",
              "    </tr>\n",
              "    <tr>\n",
              "      <th>17</th>\n",
              "      <td>16</td>\n",
              "      <td>16</td>\n",
              "      <td>Satellite</td>\n",
              "      <td>condition</td>\n",
              "    </tr>\n",
              "    <tr>\n",
              "      <th>18</th>\n",
              "      <td>14</td>\n",
              "      <td>16</td>\n",
              "      <td>Satellite</td>\n",
              "      <td>elaboration</td>\n",
              "    </tr>\n",
              "    <tr>\n",
              "      <th>19</th>\n",
              "      <td>13</td>\n",
              "      <td>16</td>\n",
              "      <td>Satellite</td>\n",
              "      <td>purpose</td>\n",
              "    </tr>\n",
              "    <tr>\n",
              "      <th>20</th>\n",
              "      <td>12</td>\n",
              "      <td>16</td>\n",
              "      <td>Satellite</td>\n",
              "      <td>elaboration</td>\n",
              "    </tr>\n",
              "    <tr>\n",
              "      <th>21</th>\n",
              "      <td>11</td>\n",
              "      <td>16</td>\n",
              "      <td>Nucleus</td>\n",
              "      <td>same_unit</td>\n",
              "    </tr>\n",
              "    <tr>\n",
              "      <th>22</th>\n",
              "      <td>9</td>\n",
              "      <td>16</td>\n",
              "      <td>Satellite</td>\n",
              "      <td>elaboration</td>\n",
              "    </tr>\n",
              "    <tr>\n",
              "      <th>23</th>\n",
              "      <td>8</td>\n",
              "      <td>16</td>\n",
              "      <td>Satellite</td>\n",
              "      <td>elaboration</td>\n",
              "    </tr>\n",
              "    <tr>\n",
              "      <th>24</th>\n",
              "      <td>7</td>\n",
              "      <td>16</td>\n",
              "      <td>Satellite</td>\n",
              "      <td>elaboration</td>\n",
              "    </tr>\n",
              "    <tr>\n",
              "      <th>25</th>\n",
              "      <td>6</td>\n",
              "      <td>16</td>\n",
              "      <td>Satellite</td>\n",
              "      <td>elaboration</td>\n",
              "    </tr>\n",
              "    <tr>\n",
              "      <th>26</th>\n",
              "      <td>5</td>\n",
              "      <td>16</td>\n",
              "      <td>Satellite</td>\n",
              "      <td>elaboration</td>\n",
              "    </tr>\n",
              "    <tr>\n",
              "      <th>27</th>\n",
              "      <td>4</td>\n",
              "      <td>16</td>\n",
              "      <td>Satellite</td>\n",
              "      <td>elaboration</td>\n",
              "    </tr>\n",
              "    <tr>\n",
              "      <th>28</th>\n",
              "      <td>3</td>\n",
              "      <td>16</td>\n",
              "      <td>Satellite</td>\n",
              "      <td>elaboration</td>\n",
              "    </tr>\n",
              "  </tbody>\n",
              "</table>\n",
              "</div>"
            ],
            "text/plain": [
              "    start  end       type          RST\n",
              "0       1    1  Satellite    condition\n",
              "9      10   10  Satellite  elaboration\n",
              "10      9   10    Nucleus    same_unit\n",
              "15     15   15  Satellite  elaboration\n",
              "17     16   16  Satellite    condition\n",
              "18     14   16  Satellite  elaboration\n",
              "19     13   16  Satellite      purpose\n",
              "20     12   16  Satellite  elaboration\n",
              "21     11   16    Nucleus    same_unit\n",
              "22      9   16  Satellite  elaboration\n",
              "23      8   16  Satellite  elaboration\n",
              "24      7   16  Satellite  elaboration\n",
              "25      6   16  Satellite  elaboration\n",
              "26      5   16  Satellite  elaboration\n",
              "27      4   16  Satellite  elaboration\n",
              "28      3   16  Satellite  elaboration"
            ]
          },
          "metadata": {
            "tags": []
          },
          "execution_count": 355
        }
      ]
    },
    {
      "cell_type": "code",
      "metadata": {
        "colab": {
          "base_uri": "https://localhost:8080/",
          "height": 111
        },
        "id": "tEYiNRzfX4VH",
        "outputId": "8f0588e3-1473-4251-b881-752435be5b16"
      },
      "source": [
        "sat[sat.type == 'Nucleus']"
      ],
      "execution_count": 356,
      "outputs": [
        {
          "output_type": "execute_result",
          "data": {
            "text/html": [
              "<div>\n",
              "<style scoped>\n",
              "    .dataframe tbody tr th:only-of-type {\n",
              "        vertical-align: middle;\n",
              "    }\n",
              "\n",
              "    .dataframe tbody tr th {\n",
              "        vertical-align: top;\n",
              "    }\n",
              "\n",
              "    .dataframe thead th {\n",
              "        text-align: right;\n",
              "    }\n",
              "</style>\n",
              "<table border=\"1\" class=\"dataframe\">\n",
              "  <thead>\n",
              "    <tr style=\"text-align: right;\">\n",
              "      <th></th>\n",
              "      <th>start</th>\n",
              "      <th>end</th>\n",
              "      <th>type</th>\n",
              "      <th>RST</th>\n",
              "    </tr>\n",
              "  </thead>\n",
              "  <tbody>\n",
              "    <tr>\n",
              "      <th>10</th>\n",
              "      <td>9</td>\n",
              "      <td>10</td>\n",
              "      <td>Nucleus</td>\n",
              "      <td>same_unit</td>\n",
              "    </tr>\n",
              "    <tr>\n",
              "      <th>21</th>\n",
              "      <td>11</td>\n",
              "      <td>16</td>\n",
              "      <td>Nucleus</td>\n",
              "      <td>same_unit</td>\n",
              "    </tr>\n",
              "  </tbody>\n",
              "</table>\n",
              "</div>"
            ],
            "text/plain": [
              "    start  end     type        RST\n",
              "10      9   10  Nucleus  same_unit\n",
              "21     11   16  Nucleus  same_unit"
            ]
          },
          "metadata": {
            "tags": []
          },
          "execution_count": 356
        }
      ]
    },
    {
      "cell_type": "code",
      "metadata": {
        "id": "ZbjxzTqvY_KV"
      },
      "source": [
        "def find_left_head(terminal_nodes_dict, row):\n",
        "  k = row.start\n",
        "  while (terminal_nodes_dict[k] != 'Nucleus' or k > row.end):\n",
        "    k += 1\n",
        "  return k"
      ],
      "execution_count": 357,
      "outputs": []
    },
    {
      "cell_type": "code",
      "metadata": {
        "colab": {
          "base_uri": "https://localhost:8080/"
        },
        "id": "MRUsdD1eRUF_",
        "outputId": "4d2d5273-786a-4028-b0f3-c5d07f8902f9"
      },
      "source": [
        "# Dependency discourse graph\n",
        "ddg = {}\n",
        "max_rel_number = len(terminal_nodes_dict)\n",
        "print(max_rel_number)"
      ],
      "execution_count": 358,
      "outputs": [
        {
          "output_type": "stream",
          "text": [
            "16\n"
          ],
          "name": "stdout"
        }
      ]
    },
    {
      "cell_type": "code",
      "metadata": {
        "colab": {
          "base_uri": "https://localhost:8080/"
        },
        "id": "IiNfREnnQ732",
        "outputId": "c4841027-97a5-4728-d362-c3a261a7e656"
      },
      "source": [
        "for index, row in n_s.iterrows():\n",
        "  if (row.start == row.end):\n",
        "    candidate = sat[(sat.start == row.start + 1) & (sat.type == 'Satellite')]\n",
        "    ddg[candidate.start.values[0]] = [row.start, candidate.RST.values[0]]\n",
        "  elif (row.start < row.end and row.end == max_rel_number):\n",
        "    print(row)\n",
        "    candidate = sat[(sat.end == row.start - 1) & (sat.type == 'Satellite')]\n",
        "    ddg[row.start] = [candidate.start.values[0], candidate.RST.values[0]]\n",
        "  elif (row.start < row.end and row.end < max_rel_number):\n",
        "    candidate = sat[(sat.end == row.end + 1) & (sat.type == 'Satellite')]\n",
        "    print(candidate)\n",
        "    head_start = find_left_head(terminal_nodes_dict, row)\n",
        "    ddg[candidate.start.values[0]] = [head_start, candidate.RST.values[0]]\n",
        "\n",
        "sat_nucl = sat[sat.type == 'Nucleus']\n",
        "for i in range(0, sat_nucl.shape[0], 2):\n",
        "  row = sat_nucl.iloc[0]\n",
        "  head_start = find_left_head(terminal_nodes_dict, row)\n",
        "  candidate = sat_nucl[sat.start == row.end + 1]\n",
        "  head_end = find_left_head(terminal_nodes_dict, candidate.iloc[0])\n",
        "  ddg[head_end] = [head_start, candidate.RST.values[0]]\n"
      ],
      "execution_count": 359,
      "outputs": [
        {
          "output_type": "stream",
          "text": [
            "    start  end       type          RST\n",
            "17     16   16  Satellite    condition\n",
            "18     14   16  Satellite  elaboration\n",
            "19     13   16  Satellite      purpose\n",
            "20     12   16  Satellite  elaboration\n",
            "22      9   16  Satellite  elaboration\n",
            "23      8   16  Satellite  elaboration\n",
            "24      7   16  Satellite  elaboration\n",
            "25      6   16  Satellite  elaboration\n",
            "26      5   16  Satellite  elaboration\n",
            "27      4   16  Satellite  elaboration\n",
            "28      3   16  Satellite  elaboration\n",
            "start          2\n",
            "end           16\n",
            "type     Nucleus\n",
            "RST         span\n",
            "Name: 29, dtype: object\n"
          ],
          "name": "stdout"
        },
        {
          "output_type": "stream",
          "text": [
            "/usr/local/lib/python3.7/dist-packages/ipykernel_launcher.py:19: UserWarning: Boolean Series key will be reindexed to match DataFrame index.\n"
          ],
          "name": "stderr"
        }
      ]
    },
    {
      "cell_type": "code",
      "metadata": {
        "colab": {
          "base_uri": "https://localhost:8080/"
        },
        "id": "I35WnYneZWlh",
        "outputId": "aa63df6b-51d2-48e8-8754-0688e3e8ae5e"
      },
      "source": [
        "ddg"
      ],
      "execution_count": 360,
      "outputs": [
        {
          "output_type": "execute_result",
          "data": {
            "text/plain": [
              "{2: [1, 'condition'],\n",
              " 3: [2, 'elaboration'],\n",
              " 4: [3, 'elaboration'],\n",
              " 5: [4, 'elaboration'],\n",
              " 6: [5, 'elaboration'],\n",
              " 7: [6, 'elaboration'],\n",
              " 8: [7, 'elaboration'],\n",
              " 9: [8, 'elaboration'],\n",
              " 10: [9, 'elaboration'],\n",
              " 11: [9, 'same_unit'],\n",
              " 12: [11, 'elaboration'],\n",
              " 13: [12, 'purpose'],\n",
              " 14: [13, 'elaboration'],\n",
              " 15: [14, 'elaboration'],\n",
              " 16: [14, 'condition']}"
            ]
          },
          "metadata": {
            "tags": []
          },
          "execution_count": 360
        }
      ]
    },
    {
      "cell_type": "code",
      "metadata": {
        "id": "XjUwmYLEc5h2"
      },
      "source": [
        ""
      ],
      "execution_count": null,
      "outputs": []
    }
  ]
}