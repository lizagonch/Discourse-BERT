{
  "nbformat": 4,
  "nbformat_minor": 0,
  "metadata": {
    "colab": {
      "name": "UKP_corpus data pre-processing.ipynb",
      "provenance": [],
      "authorship_tag": "ABX9TyPAeJEZOqrdsnFNfZOair2q",
      "include_colab_link": true
    },
    "kernelspec": {
      "name": "python3",
      "display_name": "Python 3"
    },
    "language_info": {
      "name": "python"
    }
  },
  "cells": [
    {
      "cell_type": "markdown",
      "metadata": {
        "id": "view-in-github",
        "colab_type": "text"
      },
      "source": [
        "<a href=\"https://colab.research.google.com/github/lizagonch/Discourse-BERT/blob/master/UKP_corpus_data_pre_processing.ipynb\" target=\"_parent\"><img src=\"https://colab.research.google.com/assets/colab-badge.svg\" alt=\"Open In Colab\"/></a>"
      ]
    },
    {
      "cell_type": "code",
      "metadata": {
        "id": "KtWFkPJb75vc"
      },
      "source": [
        "import pandas as pd\n",
        "import zipfile\n",
        "import os\n",
        "import time"
      ],
      "execution_count": 1,
      "outputs": []
    },
    {
      "cell_type": "code",
      "metadata": {
        "id": "XUnjkm1a8Ld-"
      },
      "source": [
        "clone = pd.read_csv('/content/school uniforms.tsv', sep='\\t')"
      ],
      "execution_count": null,
      "outputs": []
    },
    {
      "cell_type": "code",
      "metadata": {
        "id": "Psi0lf9U8OiQ"
      },
      "source": [
        "clone.dropna(inplace=True)\n",
        "clone.head()"
      ],
      "execution_count": null,
      "outputs": []
    },
    {
      "cell_type": "code",
      "metadata": {
        "id": "n1LvUGd38TE6"
      },
      "source": [
        "new_clone = clone[['sentence','annotation']]\n",
        "new_clone.head()"
      ],
      "execution_count": null,
      "outputs": []
    },
    {
      "cell_type": "code",
      "metadata": {
        "id": "NbQNA0hm8WII"
      },
      "source": [
        "# We use this common phrase as the beginning for each of the argumentative text\n",
        "new_clone['begin'] = 'School uniform is good.'"
      ],
      "execution_count": null,
      "outputs": []
    },
    {
      "cell_type": "code",
      "metadata": {
        "id": "NSJ3vIk58bQA"
      },
      "source": [
        "new_clone['full_sentence'] = new_clone.begin + ' ' + new_clone.sentence"
      ],
      "execution_count": null,
      "outputs": []
    },
    {
      "cell_type": "code",
      "metadata": {
        "id": "OmdJ79tL8dxQ"
      },
      "source": [
        "new_clone.drop(['sentence', 'begin'], axis = 1, inplace=True)\n",
        "new_clone.head()"
      ],
      "execution_count": null,
      "outputs": []
    },
    {
      "cell_type": "code",
      "metadata": {
        "id": "0s1ouzeJ8jYX"
      },
      "source": [
        "def data_preparation(name_of_file):\n",
        "  clone = pd.read_csv('/content/' + name_of_file + '.tsv', sep='\\t')\n",
        "  clone.dropna(inplace=True)\n",
        "  new_clone = clone[['sentence','annotation']]\n",
        "  new_clone['begin'] = name_of_file +' is good.'\n",
        "  new_clone['full_sentence'] = new_clone.begin + ' ' + new_clone.sentence\n",
        "  new_clone.drop(['sentence', 'begin'], axis = 1, inplace=True)\n",
        "  return new_clone"
      ],
      "execution_count": null,
      "outputs": []
    },
    {
      "cell_type": "code",
      "metadata": {
        "id": "PedXxZkW8ndQ"
      },
      "source": [
        "def get_files(name, new_clone):\n",
        "  os.mkdir(name)\n",
        "  files = []\n",
        "  arg = []\n",
        "  annotation = []\n",
        "  zname = name + '.zip'\n",
        "  newzip=zipfile.ZipFile(zname,'w')\n",
        "  for row in new_clone.iterrows():\n",
        "    #print(row[1])\n",
        "    out_file = open(name + '/' + str(row[0]) + '_' + name + '.txt', 'w')\n",
        "    out_file.write(row[1].full_sentence)\n",
        "    files.append(name + '/' + str(row[0]) + '_' + name + '.txt')\n",
        "    arg.append(row[1].full_sentence)\n",
        "    annotation.append(row[1].annotation)\n",
        "    out_file.close()\n",
        "    newzip.write(name + '/' + str(row[0]) + '_' + name + '.txt')\n",
        "  newzip.close()\n",
        "  dictionary = {'files':files, 'sent': arg, 'annotation':annotation}\n",
        "  labeled_df = pd.DataFrame.from_dict(dictionary)\n",
        "  labeled_df.to_csv(name + \"_distr.csv\")\n",
        "  return(files, arg)"
      ],
      "execution_count": null,
      "outputs": []
    },
    {
      "cell_type": "code",
      "metadata": {
        "id": "Xd6OLJp08pZA"
      },
      "source": [
        "def get_data(topic):\n",
        "  new_clone = data_preparation(topic)\n",
        "  files, arg = get_files(topic, new_clone)"
      ],
      "execution_count": null,
      "outputs": []
    },
    {
      "cell_type": "code",
      "metadata": {
        "id": "wWgQ6eKl8s9V"
      },
      "source": [
        "get_data('school uniforms')"
      ],
      "execution_count": null,
      "outputs": []
    },
    {
      "cell_type": "code",
      "metadata": {
        "id": "yn5tLxwB8vE9"
      },
      "source": [
        "def get_files(name):\n",
        "  os.mkdir(name)\n",
        "  files = []\n",
        "  arg = []\n",
        "  zname = name + '.zip'\n",
        "  newzip=zipfile.ZipFile(zname,'w')\n",
        "  for row in new_clone.iterrows():\n",
        "    #print(row[1].full_sentence)\n",
        "    out_file = open(name + '/' + str(row[0]) + '_' + name + '.txt', 'w')\n",
        "    out_file.write(row[1].full_sentence)\n",
        "    files.append(name + '/' + str(row[0]) + '_' + name + '.txt')\n",
        "    arg.append(row[1].full_sentence)\n",
        "    out_file.close()\n",
        "    newzip.write(name + '/' + str(row[0]) + '_' + name + '.txt')\n",
        "  newzip.close()\n",
        "  dictionary = {'files':files, 'sent': arg}\n",
        "  labeled_df = pd.DataFrame.from_dict(dictionary)\n",
        "  labeled_df.to_csv(name + \"_distr.csv\")\n",
        "  return(files, arg, labeled_df)\n",
        "\n",
        "files, arg, labeled_df = get_files('school uniforms')"
      ],
      "execution_count": null,
      "outputs": []
    },
    {
      "cell_type": "code",
      "metadata": {
        "id": "OTuZk40x8yOC"
      },
      "source": [
        "def delete(dirname):\n",
        "  for dirpath, dirnames, filenames in os.walk(\"/content/\" + dirname):\n",
        "    # перебрать каталоги\n",
        "    for dirname in dirnames:\n",
        "        print(\"Каталог:\", os.path.join(dirpath, dirname))\n",
        "    # перебрать файлы\n",
        "    for filename in filenames:\n",
        "        print(\"Файл:\", os.remove('/content/' + dirname + '/' + filename))\n",
        "  os.rmdir(dirname)\n",
        "\n",
        "delete('school uniforms')"
      ],
      "execution_count": null,
      "outputs": []
    }
  ]
}