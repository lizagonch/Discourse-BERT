{
  "nbformat": 4,
  "nbformat_minor": 0,
  "metadata": {
    "colab": {
      "name": "UKP_dataset_pre-processing.ipynb",
      "provenance": []
    },
    "kernelspec": {
      "name": "python3",
      "display_name": "Python 3"
    },
    "language_info": {
      "name": "python"
    }
  },
  "cells": [
    {
      "cell_type": "code",
      "metadata": {
        "id": "EVisM-c7jVJK"
      },
      "source": [
        "import pandas as pd\n",
        "import zipfile\n",
        "import os\n",
        "import time"
      ],
      "execution_count": 2,
      "outputs": []
    },
    {
      "cell_type": "code",
      "metadata": {
        "id": "ORnASGEPjemo"
      },
      "source": [
        "#Get data zip-files\n",
        "! wget #path_to_the_UKP_corpus"
      ],
      "execution_count": null,
      "outputs": []
    },
    {
      "cell_type": "code",
      "metadata": {
        "id": "qBC-2g5Pjbsi"
      },
      "source": [
        "zip_file = 'train_data.zip'\n",
        "\n",
        "z = zipfile.ZipFile(zip_file, 'r')\n",
        "z.extractall()\n",
        "\n",
        "print(os.listdir())"
      ],
      "execution_count": null,
      "outputs": []
    },
    {
      "cell_type": "code",
      "metadata": {
        "id": "Q7cWXEe6jiKw"
      },
      "source": [
        "train_abortion = pd.read_csv('/content/train_abortion.tsv', sep='\\t')\n",
        "train_cloning = pd.read_csv('/content/train_cloning.tsv', sep='\\t')\n",
        "train_death_penalty = pd.read_csv('/content/train_death_penalty.tsv', sep='\\t')\n",
        "train_gun_control = pd.read_csv('/content/train_gun_control.tsv', sep='\\t')\n",
        "train_marijuana_legalization = pd.read_csv('/content/train_marijuana_legalization.tsv', sep='\\t')\n",
        "train_minimum_wage = pd.read_csv('/content/train_minimum_wage.tsv', sep='\\t')\n",
        "train_nuclear_energy = pd.read_csv('/content/train_nuclear_energy.tsv', sep='\\t')\n",
        "train_school_uniforms = pd.read_csv('/content/train_school_uniforms.tsv', sep='\\t')"
      ],
      "execution_count": 6,
      "outputs": []
    },
    {
      "cell_type": "code",
      "metadata": {
        "colab": {
          "base_uri": "https://localhost:8080/",
          "height": 204
        },
        "id": "YnKB9hxUjjuM",
        "outputId": "d45c3fb1-4e5b-4ac8-fee2-ea33e7c90dd4"
      },
      "source": [
        "train_abortion.head()"
      ],
      "execution_count": 7,
      "outputs": [
        {
          "output_type": "execute_result",
          "data": {
            "text/html": [
              "<div>\n",
              "<style scoped>\n",
              "    .dataframe tbody tr th:only-of-type {\n",
              "        vertical-align: middle;\n",
              "    }\n",
              "\n",
              "    .dataframe tbody tr th {\n",
              "        vertical-align: top;\n",
              "    }\n",
              "\n",
              "    .dataframe thead th {\n",
              "        text-align: right;\n",
              "    }\n",
              "</style>\n",
              "<table border=\"1\" class=\"dataframe\">\n",
              "  <thead>\n",
              "    <tr style=\"text-align: right;\">\n",
              "      <th></th>\n",
              "      <th>words</th>\n",
              "      <th>rst</th>\n",
              "      <th>class</th>\n",
              "      <th>segment</th>\n",
              "      <th>label</th>\n",
              "      <th>code_class</th>\n",
              "    </tr>\n",
              "  </thead>\n",
              "  <tbody>\n",
              "    <tr>\n",
              "      <th>0</th>\n",
              "      <td>It was amazing to me that minors were required</td>\n",
              "      <td>elaboration</td>\n",
              "      <td>Argument</td>\n",
              "      <td>2574</td>\n",
              "      <td>8</td>\n",
              "      <td>0</td>\n",
              "    </tr>\n",
              "    <tr>\n",
              "      <th>1</th>\n",
              "      <td>that minors were required to get parental consent</td>\n",
              "      <td>attribution</td>\n",
              "      <td>Argument</td>\n",
              "      <td>2574</td>\n",
              "      <td>1</td>\n",
              "      <td>0</td>\n",
              "    </tr>\n",
              "    <tr>\n",
              "      <th>2</th>\n",
              "      <td>but they were allowed to have this major surgi...</td>\n",
              "      <td>manner</td>\n",
              "      <td>Argument</td>\n",
              "      <td>2574</td>\n",
              "      <td>11</td>\n",
              "      <td>0</td>\n",
              "    </tr>\n",
              "    <tr>\n",
              "      <th>3</th>\n",
              "      <td>having any say whatsoever .</td>\n",
              "      <td>attribution</td>\n",
              "      <td>Argument</td>\n",
              "      <td>2574</td>\n",
              "      <td>1</td>\n",
              "      <td>0</td>\n",
              "    </tr>\n",
              "    <tr>\n",
              "      <th>4</th>\n",
              "      <td>before getting ears pierced or a tattoo , but ...</td>\n",
              "      <td>antithesis</td>\n",
              "      <td>Argument</td>\n",
              "      <td>2574</td>\n",
              "      <td>0</td>\n",
              "      <td>0</td>\n",
              "    </tr>\n",
              "  </tbody>\n",
              "</table>\n",
              "</div>"
            ],
            "text/plain": [
              "                                               words  ... code_class\n",
              "0     It was amazing to me that minors were required  ...          0\n",
              "1  that minors were required to get parental consent  ...          0\n",
              "2  but they were allowed to have this major surgi...  ...          0\n",
              "3                        having any say whatsoever .  ...          0\n",
              "4  before getting ears pierced or a tattoo , but ...  ...          0\n",
              "\n",
              "[5 rows x 6 columns]"
            ]
          },
          "metadata": {
            "tags": []
          },
          "execution_count": 7
        }
      ]
    },
    {
      "cell_type": "code",
      "metadata": {
        "id": "xDBKIDWXjlb3"
      },
      "source": [
        "a = pd.concat([train_abortion, train_cloning, train_death_penalty, train_gun_control, train_marijuana_legalization, train_minimum_wage, train_nuclear_energy], ignore_index=True) # train_school_uniforms"
      ],
      "execution_count": 8,
      "outputs": []
    },
    {
      "cell_type": "code",
      "metadata": {
        "colab": {
          "base_uri": "https://localhost:8080/",
          "height": 204
        },
        "id": "Jxwvo2sajnpD",
        "outputId": "9df23be0-ee8f-411f-ae77-c193fda8f248"
      },
      "source": [
        "train_data = a[['words', 'rst', 'class', 'segment']]\n",
        "train_data.head()"
      ],
      "execution_count": 9,
      "outputs": [
        {
          "output_type": "execute_result",
          "data": {
            "text/html": [
              "<div>\n",
              "<style scoped>\n",
              "    .dataframe tbody tr th:only-of-type {\n",
              "        vertical-align: middle;\n",
              "    }\n",
              "\n",
              "    .dataframe tbody tr th {\n",
              "        vertical-align: top;\n",
              "    }\n",
              "\n",
              "    .dataframe thead th {\n",
              "        text-align: right;\n",
              "    }\n",
              "</style>\n",
              "<table border=\"1\" class=\"dataframe\">\n",
              "  <thead>\n",
              "    <tr style=\"text-align: right;\">\n",
              "      <th></th>\n",
              "      <th>words</th>\n",
              "      <th>rst</th>\n",
              "      <th>class</th>\n",
              "      <th>segment</th>\n",
              "    </tr>\n",
              "  </thead>\n",
              "  <tbody>\n",
              "    <tr>\n",
              "      <th>0</th>\n",
              "      <td>It was amazing to me that minors were required</td>\n",
              "      <td>elaboration</td>\n",
              "      <td>Argument</td>\n",
              "      <td>2574</td>\n",
              "    </tr>\n",
              "    <tr>\n",
              "      <th>1</th>\n",
              "      <td>that minors were required to get parental consent</td>\n",
              "      <td>attribution</td>\n",
              "      <td>Argument</td>\n",
              "      <td>2574</td>\n",
              "    </tr>\n",
              "    <tr>\n",
              "      <th>2</th>\n",
              "      <td>but they were allowed to have this major surgi...</td>\n",
              "      <td>manner</td>\n",
              "      <td>Argument</td>\n",
              "      <td>2574</td>\n",
              "    </tr>\n",
              "    <tr>\n",
              "      <th>3</th>\n",
              "      <td>having any say whatsoever .</td>\n",
              "      <td>attribution</td>\n",
              "      <td>Argument</td>\n",
              "      <td>2574</td>\n",
              "    </tr>\n",
              "    <tr>\n",
              "      <th>4</th>\n",
              "      <td>before getting ears pierced or a tattoo , but ...</td>\n",
              "      <td>antithesis</td>\n",
              "      <td>Argument</td>\n",
              "      <td>2574</td>\n",
              "    </tr>\n",
              "  </tbody>\n",
              "</table>\n",
              "</div>"
            ],
            "text/plain": [
              "                                               words  ... segment\n",
              "0     It was amazing to me that minors were required  ...    2574\n",
              "1  that minors were required to get parental consent  ...    2574\n",
              "2  but they were allowed to have this major surgi...  ...    2574\n",
              "3                        having any say whatsoever .  ...    2574\n",
              "4  before getting ears pierced or a tattoo , but ...  ...    2574\n",
              "\n",
              "[5 rows x 4 columns]"
            ]
          },
          "metadata": {
            "tags": []
          },
          "execution_count": 9
        }
      ]
    },
    {
      "cell_type": "code",
      "metadata": {
        "id": "KRmOmYLXjo--"
      },
      "source": [
        "import numpy as np\n",
        "from sklearn.model_selection import train_test_split"
      ],
      "execution_count": 10,
      "outputs": []
    },
    {
      "cell_type": "code",
      "metadata": {
        "id": "Lz6qiWTCjqNE"
      },
      "source": [
        "from sklearn import preprocessing"
      ],
      "execution_count": 11,
      "outputs": []
    },
    {
      "cell_type": "code",
      "metadata": {
        "colab": {
          "base_uri": "https://localhost:8080/"
        },
        "id": "IjzmaObPjso7",
        "outputId": "c85074a6-83dc-48fd-975a-804cb5fb987c"
      },
      "source": [
        "le = preprocessing.LabelEncoder()\n",
        "le.fit(train_data.rst.values)\n",
        "train_data['rst_code'] = le.transform(train_data.rst.values)\n",
        "le.classes_"
      ],
      "execution_count": 12,
      "outputs": [
        {
          "output_type": "stream",
          "text": [
            "/usr/local/lib/python3.7/dist-packages/ipykernel_launcher.py:3: SettingWithCopyWarning: \n",
            "A value is trying to be set on a copy of a slice from a DataFrame.\n",
            "Try using .loc[row_indexer,col_indexer] = value instead\n",
            "\n",
            "See the caveats in the documentation: https://pandas.pydata.org/pandas-docs/stable/user_guide/indexing.html#returning-a-view-versus-a-copy\n",
            "  This is separate from the ipykernel package so we can avoid doing imports until\n"
          ],
          "name": "stderr"
        },
        {
          "output_type": "execute_result",
          "data": {
            "text/plain": [
              "array(['antithesis', 'attribution', 'circumstance', 'comparison',\n",
              "       'concession', 'condition', 'consequence', 'contrast',\n",
              "       'disjunction', 'elaboration', 'example', 'explanation', 'list',\n",
              "       'manner', 'means', 'none', 'purpose', 'question', 'reason',\n",
              "       'result', 'same_unit', 'sequence', 'temporal',\n",
              "       'textualorganization', 'topic'], dtype=object)"
            ]
          },
          "metadata": {
            "tags": []
          },
          "execution_count": 12
        }
      ]
    },
    {
      "cell_type": "code",
      "metadata": {
        "colab": {
          "base_uri": "https://localhost:8080/"
        },
        "id": "6hMZCJjtjtCU",
        "outputId": "1b1605d2-2805-4ab6-8e6e-ecb7da541d2a"
      },
      "source": [
        "len(le.classes_)"
      ],
      "execution_count": 13,
      "outputs": [
        {
          "output_type": "execute_result",
          "data": {
            "text/plain": [
              "25"
            ]
          },
          "metadata": {
            "tags": []
          },
          "execution_count": 13
        }
      ]
    },
    {
      "cell_type": "code",
      "metadata": {
        "colab": {
          "base_uri": "https://localhost:8080/"
        },
        "id": "sRXFi885juU_",
        "outputId": "b65a623b-7c83-46e0-9b2b-c78e73c24ea2"
      },
      "source": [
        "le1 = preprocessing.LabelEncoder()\n",
        "le1.fit(train_data['class'].values)\n",
        "train_data['class_code'] = le1.transform(train_data['class'].values)\n",
        "le1.classes_"
      ],
      "execution_count": 14,
      "outputs": [
        {
          "output_type": "stream",
          "text": [
            "/usr/local/lib/python3.7/dist-packages/ipykernel_launcher.py:3: SettingWithCopyWarning: \n",
            "A value is trying to be set on a copy of a slice from a DataFrame.\n",
            "Try using .loc[row_indexer,col_indexer] = value instead\n",
            "\n",
            "See the caveats in the documentation: https://pandas.pydata.org/pandas-docs/stable/user_guide/indexing.html#returning-a-view-versus-a-copy\n",
            "  This is separate from the ipykernel package so we can avoid doing imports until\n"
          ],
          "name": "stderr"
        },
        {
          "output_type": "execute_result",
          "data": {
            "text/plain": [
              "array(['Argument', 'NoArgument'], dtype=object)"
            ]
          },
          "metadata": {
            "tags": []
          },
          "execution_count": 14
        }
      ]
    },
    {
      "cell_type": "code",
      "metadata": {
        "id": "DdZWHCfGjwfe"
      },
      "source": [
        "def encode_dataset(name_of_task, data_name, le, le1):\n",
        "  data_name.loc[data_name.rst == 'summary', 'rst'] = 'reason'\n",
        "  data_name['rst_code'] = le.transform(data_name.rst.values)\n",
        "  data_name['class_code'] = le1.transform(data_name['class'].values)\n",
        "  data_name.to_csv('encoded/test_encoded_' + name_of_task + '.tsv', sep='\\t', index = False)"
      ],
      "execution_count": 15,
      "outputs": []
    },
    {
      "cell_type": "code",
      "metadata": {
        "id": "P_OsL4-Qkohb"
      },
      "source": [
        "!mkdir encoded"
      ],
      "execution_count": 28,
      "outputs": []
    },
    {
      "cell_type": "code",
      "metadata": {
        "colab": {
          "base_uri": "https://localhost:8080/"
        },
        "id": "rgMU0s4xkpgb",
        "outputId": "b40a9992-a9cb-4f87-dfa3-ca5b7cbbb2fb"
      },
      "source": [
        "encode_dataset('all_7', train_data, le, le1)"
      ],
      "execution_count": 30,
      "outputs": [
        {
          "output_type": "stream",
          "text": [
            "/usr/local/lib/python3.7/dist-packages/pandas/core/indexing.py:1763: SettingWithCopyWarning: \n",
            "A value is trying to be set on a copy of a slice from a DataFrame.\n",
            "Try using .loc[row_indexer,col_indexer] = value instead\n",
            "\n",
            "See the caveats in the documentation: https://pandas.pydata.org/pandas-docs/stable/user_guide/indexing.html#returning-a-view-versus-a-copy\n",
            "  isetter(loc, value)\n",
            "/usr/local/lib/python3.7/dist-packages/ipykernel_launcher.py:3: SettingWithCopyWarning: \n",
            "A value is trying to be set on a copy of a slice from a DataFrame.\n",
            "Try using .loc[row_indexer,col_indexer] = value instead\n",
            "\n",
            "See the caveats in the documentation: https://pandas.pydata.org/pandas-docs/stable/user_guide/indexing.html#returning-a-view-versus-a-copy\n",
            "  This is separate from the ipykernel package so we can avoid doing imports until\n",
            "/usr/local/lib/python3.7/dist-packages/ipykernel_launcher.py:4: SettingWithCopyWarning: \n",
            "A value is trying to be set on a copy of a slice from a DataFrame.\n",
            "Try using .loc[row_indexer,col_indexer] = value instead\n",
            "\n",
            "See the caveats in the documentation: https://pandas.pydata.org/pandas-docs/stable/user_guide/indexing.html#returning-a-view-versus-a-copy\n",
            "  after removing the cwd from sys.path.\n"
          ],
          "name": "stderr"
        }
      ]
    },
    {
      "cell_type": "code",
      "metadata": {
        "id": "-K8j_sB-j0Kx"
      },
      "source": [
        "test_abortion = pd.read_csv('/content/test_abortion.tsv', sep='\\t')\n",
        "test_cloning = pd.read_csv('/content/test_cloning.tsv', sep='\\t')\n",
        "test_death_penalty = pd.read_csv('/content/test_death_penalty.tsv', sep='\\t')\n",
        "test_gun_control = pd.read_csv('/content/test_gun_control.tsv', sep='\\t')\n",
        "test_marijuana_legalization = pd.read_csv('/content/test_marijuana_legalization.tsv', sep='\\t')\n",
        "test_minimum_wage = pd.read_csv('/content/test_minimum_wage.tsv', sep='\\t')\n",
        "test_nuclear_energy = pd.read_csv('/content/test_nuclear_energy.tsv', sep='\\t')\n",
        "test_school_uniforms = pd.read_csv('/content/test_school_uniforms.tsv', sep='\\t')"
      ],
      "execution_count": 31,
      "outputs": []
    },
    {
      "cell_type": "code",
      "metadata": {
        "id": "IHDWKhNwj1uO"
      },
      "source": [
        "b = pd.concat([test_abortion, test_cloning, test_death_penalty, test_gun_control, test_marijuana_legalization, test_minimum_wage, test_nuclear_energy, test_school_uniforms], ignore_index=True)"
      ],
      "execution_count": 32,
      "outputs": []
    },
    {
      "cell_type": "code",
      "metadata": {
        "colab": {
          "base_uri": "https://localhost:8080/",
          "height": 204
        },
        "id": "-VyLGrkOj3Fr",
        "outputId": "72ae0490-6179-4001-ddec-5c5d63199374"
      },
      "source": [
        "test_data = b[['words', 'rst', 'class', 'segment']]\n",
        "test_data.head()"
      ],
      "execution_count": 33,
      "outputs": [
        {
          "output_type": "execute_result",
          "data": {
            "text/html": [
              "<div>\n",
              "<style scoped>\n",
              "    .dataframe tbody tr th:only-of-type {\n",
              "        vertical-align: middle;\n",
              "    }\n",
              "\n",
              "    .dataframe tbody tr th {\n",
              "        vertical-align: top;\n",
              "    }\n",
              "\n",
              "    .dataframe thead th {\n",
              "        text-align: right;\n",
              "    }\n",
              "</style>\n",
              "<table border=\"1\" class=\"dataframe\">\n",
              "  <thead>\n",
              "    <tr style=\"text-align: right;\">\n",
              "      <th></th>\n",
              "      <th>words</th>\n",
              "      <th>rst</th>\n",
              "      <th>class</th>\n",
              "      <th>segment</th>\n",
              "    </tr>\n",
              "  </thead>\n",
              "  <tbody>\n",
              "    <tr>\n",
              "      <th>0</th>\n",
              "      <td>Will it have the power to force sterilization ?</td>\n",
              "      <td>purpose</td>\n",
              "      <td>NoArgument</td>\n",
              "      <td>3422</td>\n",
              "    </tr>\n",
              "    <tr>\n",
              "      <th>1</th>\n",
              "      <td>The number of couples out there who can not ha...</td>\n",
              "      <td>elaboration</td>\n",
              "      <td>NoArgument</td>\n",
              "      <td>385</td>\n",
              "    </tr>\n",
              "    <tr>\n",
              "      <th>2</th>\n",
              "      <td>The number of couples out there of their own f...</td>\n",
              "      <td>elaboration</td>\n",
              "      <td>NoArgument</td>\n",
              "      <td>385</td>\n",
              "    </tr>\n",
              "    <tr>\n",
              "      <th>3</th>\n",
              "      <td>If we criminalize abortion , many woman will s...</td>\n",
              "      <td>condition</td>\n",
              "      <td>Argument</td>\n",
              "      <td>467</td>\n",
              "    </tr>\n",
              "    <tr>\n",
              "      <th>4</th>\n",
              "      <td>They speak of overwhelming guilt , nightmares ...</td>\n",
              "      <td>elaboration</td>\n",
              "      <td>Argument</td>\n",
              "      <td>456</td>\n",
              "    </tr>\n",
              "  </tbody>\n",
              "</table>\n",
              "</div>"
            ],
            "text/plain": [
              "                                               words  ... segment\n",
              "0    Will it have the power to force sterilization ?  ...    3422\n",
              "1  The number of couples out there who can not ha...  ...     385\n",
              "2  The number of couples out there of their own f...  ...     385\n",
              "3  If we criminalize abortion , many woman will s...  ...     467\n",
              "4  They speak of overwhelming guilt , nightmares ...  ...     456\n",
              "\n",
              "[5 rows x 4 columns]"
            ]
          },
          "metadata": {
            "tags": []
          },
          "execution_count": 33
        }
      ]
    },
    {
      "cell_type": "code",
      "metadata": {
        "colab": {
          "base_uri": "https://localhost:8080/",
          "height": 790
        },
        "id": "0Kbbm4KBj4Xi",
        "outputId": "2f7eb89e-a913-4ee6-ced2-63f324c6e9bc"
      },
      "source": [
        "test_data.groupby('rst').count()"
      ],
      "execution_count": 34,
      "outputs": [
        {
          "output_type": "execute_result",
          "data": {
            "text/html": [
              "<div>\n",
              "<style scoped>\n",
              "    .dataframe tbody tr th:only-of-type {\n",
              "        vertical-align: middle;\n",
              "    }\n",
              "\n",
              "    .dataframe tbody tr th {\n",
              "        vertical-align: top;\n",
              "    }\n",
              "\n",
              "    .dataframe thead th {\n",
              "        text-align: right;\n",
              "    }\n",
              "</style>\n",
              "<table border=\"1\" class=\"dataframe\">\n",
              "  <thead>\n",
              "    <tr style=\"text-align: right;\">\n",
              "      <th></th>\n",
              "      <th>words</th>\n",
              "      <th>class</th>\n",
              "      <th>segment</th>\n",
              "    </tr>\n",
              "    <tr>\n",
              "      <th>rst</th>\n",
              "      <th></th>\n",
              "      <th></th>\n",
              "      <th></th>\n",
              "    </tr>\n",
              "  </thead>\n",
              "  <tbody>\n",
              "    <tr>\n",
              "      <th>antithesis</th>\n",
              "      <td>4</td>\n",
              "      <td>4</td>\n",
              "      <td>4</td>\n",
              "    </tr>\n",
              "    <tr>\n",
              "      <th>attribution</th>\n",
              "      <td>535</td>\n",
              "      <td>535</td>\n",
              "      <td>535</td>\n",
              "    </tr>\n",
              "    <tr>\n",
              "      <th>circumstance</th>\n",
              "      <td>56</td>\n",
              "      <td>56</td>\n",
              "      <td>56</td>\n",
              "    </tr>\n",
              "    <tr>\n",
              "      <th>comparison</th>\n",
              "      <td>27</td>\n",
              "      <td>27</td>\n",
              "      <td>27</td>\n",
              "    </tr>\n",
              "    <tr>\n",
              "      <th>concession</th>\n",
              "      <td>14</td>\n",
              "      <td>14</td>\n",
              "      <td>14</td>\n",
              "    </tr>\n",
              "    <tr>\n",
              "      <th>condition</th>\n",
              "      <td>97</td>\n",
              "      <td>97</td>\n",
              "      <td>97</td>\n",
              "    </tr>\n",
              "    <tr>\n",
              "      <th>contrast</th>\n",
              "      <td>5</td>\n",
              "      <td>5</td>\n",
              "      <td>5</td>\n",
              "    </tr>\n",
              "    <tr>\n",
              "      <th>disjunction</th>\n",
              "      <td>1</td>\n",
              "      <td>1</td>\n",
              "      <td>1</td>\n",
              "    </tr>\n",
              "    <tr>\n",
              "      <th>elaboration</th>\n",
              "      <td>1688</td>\n",
              "      <td>1688</td>\n",
              "      <td>1688</td>\n",
              "    </tr>\n",
              "    <tr>\n",
              "      <th>example</th>\n",
              "      <td>8</td>\n",
              "      <td>8</td>\n",
              "      <td>8</td>\n",
              "    </tr>\n",
              "    <tr>\n",
              "      <th>explanation</th>\n",
              "      <td>4</td>\n",
              "      <td>4</td>\n",
              "      <td>4</td>\n",
              "    </tr>\n",
              "    <tr>\n",
              "      <th>list</th>\n",
              "      <td>263</td>\n",
              "      <td>263</td>\n",
              "      <td>263</td>\n",
              "    </tr>\n",
              "    <tr>\n",
              "      <th>manner</th>\n",
              "      <td>21</td>\n",
              "      <td>21</td>\n",
              "      <td>21</td>\n",
              "    </tr>\n",
              "    <tr>\n",
              "      <th>means</th>\n",
              "      <td>21</td>\n",
              "      <td>21</td>\n",
              "      <td>21</td>\n",
              "    </tr>\n",
              "    <tr>\n",
              "      <th>none</th>\n",
              "      <td>639</td>\n",
              "      <td>639</td>\n",
              "      <td>639</td>\n",
              "    </tr>\n",
              "    <tr>\n",
              "      <th>purpose</th>\n",
              "      <td>198</td>\n",
              "      <td>198</td>\n",
              "      <td>198</td>\n",
              "    </tr>\n",
              "    <tr>\n",
              "      <th>reason</th>\n",
              "      <td>55</td>\n",
              "      <td>55</td>\n",
              "      <td>55</td>\n",
              "    </tr>\n",
              "    <tr>\n",
              "      <th>result</th>\n",
              "      <td>1</td>\n",
              "      <td>1</td>\n",
              "      <td>1</td>\n",
              "    </tr>\n",
              "    <tr>\n",
              "      <th>same_unit</th>\n",
              "      <td>133</td>\n",
              "      <td>133</td>\n",
              "      <td>133</td>\n",
              "    </tr>\n",
              "    <tr>\n",
              "      <th>sequence</th>\n",
              "      <td>4</td>\n",
              "      <td>4</td>\n",
              "      <td>4</td>\n",
              "    </tr>\n",
              "    <tr>\n",
              "      <th>summary</th>\n",
              "      <td>1</td>\n",
              "      <td>1</td>\n",
              "      <td>1</td>\n",
              "    </tr>\n",
              "    <tr>\n",
              "      <th>temporal</th>\n",
              "      <td>16</td>\n",
              "      <td>16</td>\n",
              "      <td>16</td>\n",
              "    </tr>\n",
              "    <tr>\n",
              "      <th>textualorganization</th>\n",
              "      <td>73</td>\n",
              "      <td>73</td>\n",
              "      <td>73</td>\n",
              "    </tr>\n",
              "  </tbody>\n",
              "</table>\n",
              "</div>"
            ],
            "text/plain": [
              "                     words  class  segment\n",
              "rst                                       \n",
              "antithesis               4      4        4\n",
              "attribution            535    535      535\n",
              "circumstance            56     56       56\n",
              "comparison              27     27       27\n",
              "concession              14     14       14\n",
              "condition               97     97       97\n",
              "contrast                 5      5        5\n",
              "disjunction              1      1        1\n",
              "elaboration           1688   1688     1688\n",
              "example                  8      8        8\n",
              "explanation              4      4        4\n",
              "list                   263    263      263\n",
              "manner                  21     21       21\n",
              "means                   21     21       21\n",
              "none                   639    639      639\n",
              "purpose                198    198      198\n",
              "reason                  55     55       55\n",
              "result                   1      1        1\n",
              "same_unit              133    133      133\n",
              "sequence                 4      4        4\n",
              "summary                  1      1        1\n",
              "temporal                16     16       16\n",
              "textualorganization     73     73       73"
            ]
          },
          "metadata": {
            "tags": []
          },
          "execution_count": 34
        }
      ]
    },
    {
      "cell_type": "code",
      "metadata": {
        "colab": {
          "base_uri": "https://localhost:8080/"
        },
        "id": "cambzQiHj6XU",
        "outputId": "d24e9286-0129-4d22-b56a-2c777ebddc8c"
      },
      "source": [
        "test_data.loc[test_data.rst == 'summary', 'rst'] = 'reason'"
      ],
      "execution_count": 35,
      "outputs": [
        {
          "output_type": "stream",
          "text": [
            "/usr/local/lib/python3.7/dist-packages/pandas/core/indexing.py:1763: SettingWithCopyWarning: \n",
            "A value is trying to be set on a copy of a slice from a DataFrame.\n",
            "Try using .loc[row_indexer,col_indexer] = value instead\n",
            "\n",
            "See the caveats in the documentation: https://pandas.pydata.org/pandas-docs/stable/user_guide/indexing.html#returning-a-view-versus-a-copy\n",
            "  isetter(loc, value)\n"
          ],
          "name": "stderr"
        }
      ]
    },
    {
      "cell_type": "code",
      "metadata": {
        "colab": {
          "base_uri": "https://localhost:8080/"
        },
        "id": "NDZ58GRsj76a",
        "outputId": "d2cac641-e885-42f1-c38c-91f5c950bcd0"
      },
      "source": [
        "test_data['rst_code'] = le.transform(test_data.rst.values)\n",
        "test_data['class_code'] = le1.transform(test_data['class'].values)"
      ],
      "execution_count": 36,
      "outputs": [
        {
          "output_type": "stream",
          "text": [
            "/usr/local/lib/python3.7/dist-packages/ipykernel_launcher.py:1: SettingWithCopyWarning: \n",
            "A value is trying to be set on a copy of a slice from a DataFrame.\n",
            "Try using .loc[row_indexer,col_indexer] = value instead\n",
            "\n",
            "See the caveats in the documentation: https://pandas.pydata.org/pandas-docs/stable/user_guide/indexing.html#returning-a-view-versus-a-copy\n",
            "  \"\"\"Entry point for launching an IPython kernel.\n",
            "/usr/local/lib/python3.7/dist-packages/ipykernel_launcher.py:2: SettingWithCopyWarning: \n",
            "A value is trying to be set on a copy of a slice from a DataFrame.\n",
            "Try using .loc[row_indexer,col_indexer] = value instead\n",
            "\n",
            "See the caveats in the documentation: https://pandas.pydata.org/pandas-docs/stable/user_guide/indexing.html#returning-a-view-versus-a-copy\n",
            "  \n"
          ],
          "name": "stderr"
        }
      ]
    },
    {
      "cell_type": "code",
      "metadata": {
        "colab": {
          "base_uri": "https://localhost:8080/",
          "height": 204
        },
        "id": "eQxA2QtHj9Mr",
        "outputId": "10ae9c54-dfbc-4e84-c1cf-dfa59daeda81"
      },
      "source": [
        "test_data.head()"
      ],
      "execution_count": 37,
      "outputs": [
        {
          "output_type": "execute_result",
          "data": {
            "text/html": [
              "<div>\n",
              "<style scoped>\n",
              "    .dataframe tbody tr th:only-of-type {\n",
              "        vertical-align: middle;\n",
              "    }\n",
              "\n",
              "    .dataframe tbody tr th {\n",
              "        vertical-align: top;\n",
              "    }\n",
              "\n",
              "    .dataframe thead th {\n",
              "        text-align: right;\n",
              "    }\n",
              "</style>\n",
              "<table border=\"1\" class=\"dataframe\">\n",
              "  <thead>\n",
              "    <tr style=\"text-align: right;\">\n",
              "      <th></th>\n",
              "      <th>words</th>\n",
              "      <th>rst</th>\n",
              "      <th>class</th>\n",
              "      <th>segment</th>\n",
              "      <th>rst_code</th>\n",
              "      <th>class_code</th>\n",
              "    </tr>\n",
              "  </thead>\n",
              "  <tbody>\n",
              "    <tr>\n",
              "      <th>0</th>\n",
              "      <td>Will it have the power to force sterilization ?</td>\n",
              "      <td>purpose</td>\n",
              "      <td>NoArgument</td>\n",
              "      <td>3422</td>\n",
              "      <td>16</td>\n",
              "      <td>1</td>\n",
              "    </tr>\n",
              "    <tr>\n",
              "      <th>1</th>\n",
              "      <td>The number of couples out there who can not ha...</td>\n",
              "      <td>elaboration</td>\n",
              "      <td>NoArgument</td>\n",
              "      <td>385</td>\n",
              "      <td>9</td>\n",
              "      <td>1</td>\n",
              "    </tr>\n",
              "    <tr>\n",
              "      <th>2</th>\n",
              "      <td>The number of couples out there of their own f...</td>\n",
              "      <td>elaboration</td>\n",
              "      <td>NoArgument</td>\n",
              "      <td>385</td>\n",
              "      <td>9</td>\n",
              "      <td>1</td>\n",
              "    </tr>\n",
              "    <tr>\n",
              "      <th>3</th>\n",
              "      <td>If we criminalize abortion , many woman will s...</td>\n",
              "      <td>condition</td>\n",
              "      <td>Argument</td>\n",
              "      <td>467</td>\n",
              "      <td>5</td>\n",
              "      <td>0</td>\n",
              "    </tr>\n",
              "    <tr>\n",
              "      <th>4</th>\n",
              "      <td>They speak of overwhelming guilt , nightmares ...</td>\n",
              "      <td>elaboration</td>\n",
              "      <td>Argument</td>\n",
              "      <td>456</td>\n",
              "      <td>9</td>\n",
              "      <td>0</td>\n",
              "    </tr>\n",
              "  </tbody>\n",
              "</table>\n",
              "</div>"
            ],
            "text/plain": [
              "                                               words  ... class_code\n",
              "0    Will it have the power to force sterilization ?  ...          1\n",
              "1  The number of couples out there who can not ha...  ...          1\n",
              "2  The number of couples out there of their own f...  ...          1\n",
              "3  If we criminalize abortion , many woman will s...  ...          0\n",
              "4  They speak of overwhelming guilt , nightmares ...  ...          0\n",
              "\n",
              "[5 rows x 6 columns]"
            ]
          },
          "metadata": {
            "tags": []
          },
          "execution_count": 37
        }
      ]
    },
    {
      "cell_type": "code",
      "metadata": {
        "id": "qRo4cbz4j-rC"
      },
      "source": [
        "test_d, dev_data = train_test_split(test_data, test_size=0.33, shuffle=True)"
      ],
      "execution_count": 38,
      "outputs": []
    },
    {
      "cell_type": "code",
      "metadata": {
        "colab": {
          "base_uri": "https://localhost:8080/"
        },
        "id": "ltqZm5ZAkABK",
        "outputId": "8efb5cbf-cfa7-4b9a-c4b1-b00cb3fe6da0"
      },
      "source": [
        "test_d.shape"
      ],
      "execution_count": 39,
      "outputs": [
        {
          "output_type": "execute_result",
          "data": {
            "text/plain": [
              "(2588, 6)"
            ]
          },
          "metadata": {
            "tags": []
          },
          "execution_count": 39
        }
      ]
    },
    {
      "cell_type": "code",
      "metadata": {
        "id": "bhIhEymTkBPr"
      },
      "source": [
        "train_data.to_csv('train_UKP.tsv', sep='\\t')\n",
        "test_d.to_csv('test_UKP.tsv', sep='\\t')\n",
        "dev_data.to_csv('dev_UKP.tsv', sep='\\t')"
      ],
      "execution_count": 40,
      "outputs": []
    },
    {
      "cell_type": "code",
      "metadata": {
        "id": "jQxfuD0AkC7z"
      },
      "source": [
        "task_datasets = [test_abortion, test_cloning, test_death_penalty, test_gun_control, test_marijuana_legalization, test_minimum_wage, test_nuclear_energy, test_school_uniforms]\n",
        "task_names = ['abortion', 'cloning', 'gun_control', 'marijuana_legalization', 'minimum_wage', 'nuclear_energy', 'school_uniforms']\n",
        "\n",
        "for i in range(len(task_names)):\n",
        "  encode_dataset(task_names[i], task_datasets[i], le, le1)\n"
      ],
      "execution_count": 41,
      "outputs": []
    },
    {
      "cell_type": "code",
      "metadata": {
        "colab": {
          "base_uri": "https://localhost:8080/"
        },
        "id": "uJNbNiQgkFDX",
        "outputId": "d29dc8a9-61e4-45be-85d0-803e971cd0a5"
      },
      "source": [
        "path = 'encoded/'\n",
        "file_dir = os.listdir(path)\n",
        "\n",
        "with zipfile.ZipFile('test_encoded_UKP_datasets.zip', mode='w', compression=zipfile.ZIP_DEFLATED) as zf:\n",
        "    for dirpath, dirnames, filenames in os.walk(path):\n",
        "      for filename in filenames:\n",
        "        print(\"Файл:\", os.path.join(dirpath, filename))\n",
        "        add_file = os.path.join(dirpath, filename)\n",
        "        zf.write(add_file)\n",
        "\n",
        "os.system('test_encoded_UKP_datasets.zip')"
      ],
      "execution_count": 42,
      "outputs": [
        {
          "output_type": "stream",
          "text": [
            "Файл: encoded/test_encoded_cloning.tsv\n",
            "Файл: encoded/test_encoded_nuclear_energy.tsv\n",
            "Файл: encoded/test_encoded_minimum_wage.tsv\n",
            "Файл: encoded/test_encoded_gun_control.tsv\n",
            "Файл: encoded/test_encoded_abortion.tsv\n",
            "Файл: encoded/test_encoded_school_uniforms.tsv\n",
            "Файл: encoded/test_encoded_marijuana_legalization.tsv\n",
            "Файл: encoded/test_encoded_all_7.tsv\n"
          ],
          "name": "stdout"
        },
        {
          "output_type": "execute_result",
          "data": {
            "text/plain": [
              "32512"
            ]
          },
          "metadata": {
            "tags": []
          },
          "execution_count": 42
        }
      ]
    },
    {
      "cell_type": "code",
      "metadata": {
        "id": "Xd5RXAgekc27"
      },
      "source": [
        ""
      ],
      "execution_count": null,
      "outputs": []
    }
  ]
}